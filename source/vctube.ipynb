{
 "cells": [
  {
   "cell_type": "code",
   "execution_count": 6,
   "metadata": {},
   "outputs": [],
   "source": [
    "from vctube import VCtube\n",
    "url = ['https://www.youtube.com/watch?v=u_5g6p_jvpg', 'https://www.youtube.com/watch?v=Rik6oJZDq9I', 'https://www.youtube.com/watch?v=Rv2HG79VsCk', 'https://www.youtube.com/watch?v=sRXUhD50c2s', 'https://www.youtube.com/watch?v=FcrkpfR3Xtw', 'https://www.youtube.com/watch?v=xAjqpl7Lyf4', 'https://www.youtube.com/watch?v=6pUXQbPAHxY']"
   ]
  },
  {
   "cell_type": "code",
   "execution_count": 7,
   "metadata": {},
   "outputs": [
    {
     "name": "stdout",
     "output_type": "stream",
     "text": [
      "[youtube] u_5g6p_jvpg: Downloading webpage\n",
      "[download] Destination: datasets\\immint0\\wavs\\u_5g6p_jvpg.m4a\n",
      "[download] 100% of 69.86MiB in 19:09                    \n",
      "[ffmpeg] Correcting container in \"datasets\\immint0\\wavs\\u_5g6p_jvpg.m4a\"\n",
      "[ffmpeg] Destination: datasets\\immint0\\wavs\\u_5g6p_jvpg.wav\n",
      "Deleting original file datasets\\immint0\\wavs\\u_5g6p_jvpg.m4a (pass -k to keep)\n"
     ]
    },
    {
     "name": "stderr",
     "output_type": "stream",
     "text": [
      "100%|██████████| 1/1 [00:00<00:00,  1.13it/s]\n"
     ]
    },
    {
     "name": "stdout",
     "output_type": "stream",
     "text": [
      " [*] Make directories : ./datasets/immint0/text\n",
      "immint0 channel was finished\n"
     ]
    },
    {
     "name": "stderr",
     "output_type": "stream",
     "text": [
      "Split with caption: 100%|██████████| 1/1 [00:09<00:00,  9.16s/it]\n"
     ]
    },
    {
     "name": "stdout",
     "output_type": "stream",
     "text": [
      "[youtube] Rik6oJZDq9I: Downloading webpage\n",
      "[download] Destination: datasets\\immint1\\wavs\\Rik6oJZDq9I.m4a\n",
      "[download] 100% of 71.38MiB in 18:49                    \n",
      "[ffmpeg] Correcting container in \"datasets\\immint1\\wavs\\Rik6oJZDq9I.m4a\"\n",
      "[ffmpeg] Destination: datasets\\immint1\\wavs\\Rik6oJZDq9I.wav\n",
      "Deleting original file datasets\\immint1\\wavs\\Rik6oJZDq9I.m4a (pass -k to keep)\n"
     ]
    },
    {
     "name": "stderr",
     "output_type": "stream",
     "text": [
      "100%|██████████| 1/1 [00:00<00:00,  1.06it/s]\n"
     ]
    },
    {
     "name": "stdout",
     "output_type": "stream",
     "text": [
      " [*] Make directories : ./datasets/immint1/text\n",
      "immint1 channel was finished\n"
     ]
    },
    {
     "name": "stderr",
     "output_type": "stream",
     "text": [
      "Split with caption: 100%|██████████| 1/1 [00:08<00:00,  8.90s/it]\n"
     ]
    },
    {
     "name": "stdout",
     "output_type": "stream",
     "text": [
      "[youtube] Rv2HG79VsCk: Downloading webpage\n",
      "[download] Destination: datasets\\immint2\\wavs\\Rv2HG79VsCk.m4a\n",
      "[download] 100% of 63.55MiB in 26:00                    \n",
      "[ffmpeg] Correcting container in \"datasets\\immint2\\wavs\\Rv2HG79VsCk.m4a\"\n",
      "[ffmpeg] Destination: datasets\\immint2\\wavs\\Rv2HG79VsCk.wav\n",
      "Deleting original file datasets\\immint2\\wavs\\Rv2HG79VsCk.m4a (pass -k to keep)\n"
     ]
    },
    {
     "name": "stderr",
     "output_type": "stream",
     "text": [
      "100%|██████████| 1/1 [00:00<00:00,  1.21it/s]\n"
     ]
    },
    {
     "name": "stdout",
     "output_type": "stream",
     "text": [
      " [*] Make directories : ./datasets/immint2/text\n",
      "immint2 channel was finished\n"
     ]
    },
    {
     "name": "stderr",
     "output_type": "stream",
     "text": [
      "Split with caption: 100%|██████████| 1/1 [00:09<00:00,  9.80s/it]\n"
     ]
    },
    {
     "name": "stdout",
     "output_type": "stream",
     "text": [
      "[youtube] sRXUhD50c2s: Downloading webpage\n",
      "[download] Destination: datasets\\immint3\\wavs\\sRXUhD50c2s.m4a\n",
      "[download] 100% of 68.89MiB in 15:22                    \n",
      "[ffmpeg] Correcting container in \"datasets\\immint3\\wavs\\sRXUhD50c2s.m4a\"\n",
      "[ffmpeg] Destination: datasets\\immint3\\wavs\\sRXUhD50c2s.wav\n",
      "Deleting original file datasets\\immint3\\wavs\\sRXUhD50c2s.m4a (pass -k to keep)\n"
     ]
    },
    {
     "name": "stderr",
     "output_type": "stream",
     "text": [
      "100%|██████████| 1/1 [00:00<00:00,  1.19it/s]\n"
     ]
    },
    {
     "name": "stdout",
     "output_type": "stream",
     "text": [
      " [*] Make directories : ./datasets/immint3/text\n",
      "immint3 channel was finished\n"
     ]
    },
    {
     "name": "stderr",
     "output_type": "stream",
     "text": [
      "Split with caption: 100%|██████████| 1/1 [00:15<00:00, 15.86s/it]\n"
     ]
    },
    {
     "name": "stdout",
     "output_type": "stream",
     "text": [
      "[youtube] FcrkpfR3Xtw: Downloading webpage\n",
      "[download] Destination: datasets\\immint4\\wavs\\FcrkpfR3Xtw.m4a\n",
      "[download] 100% of 75.21MiB in 24:21                    \n",
      "[ffmpeg] Correcting container in \"datasets\\immint4\\wavs\\FcrkpfR3Xtw.m4a\"\n",
      "[ffmpeg] Destination: datasets\\immint4\\wavs\\FcrkpfR3Xtw.wav\n",
      "Deleting original file datasets\\immint4\\wavs\\FcrkpfR3Xtw.m4a (pass -k to keep)\n"
     ]
    },
    {
     "name": "stderr",
     "output_type": "stream",
     "text": [
      "100%|██████████| 1/1 [00:00<00:00,  1.10it/s]\n"
     ]
    },
    {
     "name": "stdout",
     "output_type": "stream",
     "text": [
      " [*] Make directories : ./datasets/immint4/text\n",
      "immint4 channel was finished\n"
     ]
    },
    {
     "name": "stderr",
     "output_type": "stream",
     "text": [
      "Split with caption: 100%|██████████| 1/1 [00:11<00:00, 11.36s/it]\n"
     ]
    },
    {
     "name": "stdout",
     "output_type": "stream",
     "text": [
      "[youtube] xAjqpl7Lyf4: Downloading webpage\n",
      "[download] Destination: datasets\\immint5\\wavs\\xAjqpl7Lyf4.m4a\n",
      "[download] 100% of 72.88MiB in 19:21                    \n",
      "[ffmpeg] Correcting container in \"datasets\\immint5\\wavs\\xAjqpl7Lyf4.m4a\"\n",
      "[ffmpeg] Destination: datasets\\immint5\\wavs\\xAjqpl7Lyf4.wav\n",
      "Deleting original file datasets\\immint5\\wavs\\xAjqpl7Lyf4.m4a (pass -k to keep)\n"
     ]
    },
    {
     "name": "stderr",
     "output_type": "stream",
     "text": [
      "100%|██████████| 1/1 [00:00<00:00,  1.07it/s]\n"
     ]
    },
    {
     "name": "stdout",
     "output_type": "stream",
     "text": [
      " [*] Make directories : ./datasets/immint5/text\n",
      "immint5 channel was finished\n"
     ]
    },
    {
     "name": "stderr",
     "output_type": "stream",
     "text": [
      "Split with caption: 100%|██████████| 1/1 [00:10<00:00, 10.30s/it]\n"
     ]
    },
    {
     "name": "stdout",
     "output_type": "stream",
     "text": [
      "[youtube] 6pUXQbPAHxY: Downloading webpage\n",
      "[download] Destination: datasets\\immint6\\wavs\\6pUXQbPAHxY.m4a\n",
      "[download] 100% of 72.72MiB in 29:41                    \n",
      "[ffmpeg] Correcting container in \"datasets\\immint6\\wavs\\6pUXQbPAHxY.m4a\"\n",
      "[ffmpeg] Destination: datasets\\immint6\\wavs\\6pUXQbPAHxY.wav\n",
      "Deleting original file datasets\\immint6\\wavs\\6pUXQbPAHxY.m4a (pass -k to keep)\n"
     ]
    },
    {
     "name": "stderr",
     "output_type": "stream",
     "text": [
      "100%|██████████| 1/1 [00:00<00:00,  1.18it/s]\n"
     ]
    },
    {
     "name": "stdout",
     "output_type": "stream",
     "text": [
      " [*] Make directories : ./datasets/immint6/text\n",
      "immint6 channel was finished\n"
     ]
    },
    {
     "name": "stderr",
     "output_type": "stream",
     "text": [
      "Split with caption: 100%|██████████| 1/1 [00:16<00:00, 16.24s/it]\n"
     ]
    }
   ],
   "source": [
    "for i in range(len(url)):\n",
    "  playlist_name= f\"immint{i}\"\n",
    "  playlist_url = url[i]\n",
    "  lang = \"ko\"   #ex) ko, en, fr, de...\n",
    "\n",
    "  vc = VCtube(playlist_name, playlist_url, lang)\n",
    "  vc.download_audio()    #download audios from youtube\n",
    "  vc.download_captions()  #download captions from youtube\n",
    "  vc.audio_split()       #split audio with captions"
   ]
  },
  {
   "cell_type": "code",
   "execution_count": null,
   "metadata": {},
   "outputs": [],
   "source": []
  }
 ],
 "metadata": {
  "interpreter": {
   "hash": "b3cf5d13988024f7deba847bfcd15c49296c12cf9ee2812d434147ba7df37e16"
  },
  "kernelspec": {
   "display_name": "Python 3.8.3 64-bit ('base': conda)",
   "language": "python",
   "name": "python3"
  },
  "language_info": {
   "codemirror_mode": {
    "name": "ipython",
    "version": 3
   },
   "file_extension": ".py",
   "mimetype": "text/x-python",
   "name": "python",
   "nbconvert_exporter": "python",
   "pygments_lexer": "ipython3",
   "version": "3.7.0"
  },
  "orig_nbformat": 4
 },
 "nbformat": 4,
 "nbformat_minor": 2
}
